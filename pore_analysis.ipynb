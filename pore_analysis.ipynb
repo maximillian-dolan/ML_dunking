{
 "cells": [
  {
   "cell_type": "markdown",
   "id": "f6199c83-cf68-49da-bb74-6850f7f59e02",
   "metadata": {},
   "source": [
    "# Pore Analysis"
   ]
  },
  {
   "cell_type": "code",
   "execution_count": 78,
   "id": "989126a6-306c-4a85-a349-1f445c61cc1a",
   "metadata": {},
   "outputs": [],
   "source": [
    "import pandas as pd\n",
    "import numpy as np\n",
    "import matplotlib.pyplot as plt\n",
    "\n",
    "from sklearn.decomposition import PCA\n",
    "from sklearn.preprocessing import scale, StandardScaler\n",
    "from sklearn.model_selection import train_test_split,cross_val_score, KFold\n",
    "from sklearn.ensemble import RandomForestClassifier, RandomForestRegressor\n",
    "from sklearn.metrics import classification_report, mean_squared_error\n",
    "from sklearn.svm import SVC"
   ]
  },
  {
   "cell_type": "markdown",
   "id": "15e9a462-f062-4f14-ba74-9d65bd94adf4",
   "metadata": {},
   "source": [
    "# Import data"
   ]
  },
  {
   "cell_type": "code",
   "execution_count": 7,
   "id": "fa9c1a4b-dcdf-4ebb-88fc-11840e6f11f5",
   "metadata": {},
   "outputs": [
    {
     "data": {
      "text/html": [
       "<div>\n",
       "<style scoped>\n",
       "    .dataframe tbody tr th:only-of-type {\n",
       "        vertical-align: middle;\n",
       "    }\n",
       "\n",
       "    .dataframe tbody tr th {\n",
       "        vertical-align: top;\n",
       "    }\n",
       "\n",
       "    .dataframe thead th {\n",
       "        text-align: right;\n",
       "    }\n",
       "</style>\n",
       "<table border=\"1\" class=\"dataframe\">\n",
       "  <thead>\n",
       "    <tr style=\"text-align: right;\">\n",
       "      <th></th>\n",
       "      <th>gamma</th>\n",
       "      <th>phi</th>\n",
       "      <th>eta</th>\n",
       "      <th>L</th>\n",
       "      <th>t</th>\n",
       "      <th>r</th>\n",
       "    </tr>\n",
       "  </thead>\n",
       "  <tbody>\n",
       "    <tr>\n",
       "      <th>0</th>\n",
       "      <td>0.084596</td>\n",
       "      <td>1.557367</td>\n",
       "      <td>0.000981</td>\n",
       "      <td>0.003221</td>\n",
       "      <td>24.231107</td>\n",
       "      <td>7.453712e-07</td>\n",
       "    </tr>\n",
       "    <tr>\n",
       "      <th>1</th>\n",
       "      <td>0.064291</td>\n",
       "      <td>1.538842</td>\n",
       "      <td>0.000998</td>\n",
       "      <td>0.002395</td>\n",
       "      <td>22.169765</td>\n",
       "      <td>2.600680e-07</td>\n",
       "    </tr>\n",
       "    <tr>\n",
       "      <th>2</th>\n",
       "      <td>0.086224</td>\n",
       "      <td>1.546138</td>\n",
       "      <td>0.001008</td>\n",
       "      <td>0.003036</td>\n",
       "      <td>23.257709</td>\n",
       "      <td>3.734618e-07</td>\n",
       "    </tr>\n",
       "    <tr>\n",
       "      <th>3</th>\n",
       "      <td>0.082859</td>\n",
       "      <td>1.566878</td>\n",
       "      <td>0.000997</td>\n",
       "      <td>0.001261</td>\n",
       "      <td>12.717432</td>\n",
       "      <td>7.567173e-07</td>\n",
       "    </tr>\n",
       "    <tr>\n",
       "      <th>4</th>\n",
       "      <td>0.090832</td>\n",
       "      <td>1.570229</td>\n",
       "      <td>0.001002</td>\n",
       "      <td>0.000576</td>\n",
       "      <td>15.189146</td>\n",
       "      <td>8.239067e-07</td>\n",
       "    </tr>\n",
       "    <tr>\n",
       "      <th>...</th>\n",
       "      <td>...</td>\n",
       "      <td>...</td>\n",
       "      <td>...</td>\n",
       "      <td>...</td>\n",
       "      <td>...</td>\n",
       "      <td>...</td>\n",
       "    </tr>\n",
       "    <tr>\n",
       "      <th>495</th>\n",
       "      <td>0.077699</td>\n",
       "      <td>1.481847</td>\n",
       "      <td>0.000989</td>\n",
       "      <td>0.006078</td>\n",
       "      <td>21.967531</td>\n",
       "      <td>4.751893e-07</td>\n",
       "    </tr>\n",
       "    <tr>\n",
       "      <th>496</th>\n",
       "      <td>0.067776</td>\n",
       "      <td>1.488293</td>\n",
       "      <td>0.001011</td>\n",
       "      <td>0.006595</td>\n",
       "      <td>18.163634</td>\n",
       "      <td>8.798032e-07</td>\n",
       "    </tr>\n",
       "    <tr>\n",
       "      <th>497</th>\n",
       "      <td>0.074166</td>\n",
       "      <td>1.554817</td>\n",
       "      <td>0.000997</td>\n",
       "      <td>0.003041</td>\n",
       "      <td>18.000978</td>\n",
       "      <td>8.652230e-07</td>\n",
       "    </tr>\n",
       "    <tr>\n",
       "      <th>498</th>\n",
       "      <td>0.081415</td>\n",
       "      <td>1.439910</td>\n",
       "      <td>0.001011</td>\n",
       "      <td>0.009119</td>\n",
       "      <td>19.136713</td>\n",
       "      <td>8.128785e-07</td>\n",
       "    </tr>\n",
       "    <tr>\n",
       "      <th>499</th>\n",
       "      <td>0.086839</td>\n",
       "      <td>1.524417</td>\n",
       "      <td>0.001007</td>\n",
       "      <td>0.003018</td>\n",
       "      <td>11.393455</td>\n",
       "      <td>3.980807e-07</td>\n",
       "    </tr>\n",
       "  </tbody>\n",
       "</table>\n",
       "<p>500 rows × 6 columns</p>\n",
       "</div>"
      ],
      "text/plain": [
       "        gamma       phi       eta         L          t             r\n",
       "0    0.084596  1.557367  0.000981  0.003221  24.231107  7.453712e-07\n",
       "1    0.064291  1.538842  0.000998  0.002395  22.169765  2.600680e-07\n",
       "2    0.086224  1.546138  0.001008  0.003036  23.257709  3.734618e-07\n",
       "3    0.082859  1.566878  0.000997  0.001261  12.717432  7.567173e-07\n",
       "4    0.090832  1.570229  0.001002  0.000576  15.189146  8.239067e-07\n",
       "..        ...       ...       ...       ...        ...           ...\n",
       "495  0.077699  1.481847  0.000989  0.006078  21.967531  4.751893e-07\n",
       "496  0.067776  1.488293  0.001011  0.006595  18.163634  8.798032e-07\n",
       "497  0.074166  1.554817  0.000997  0.003041  18.000978  8.652230e-07\n",
       "498  0.081415  1.439910  0.001011  0.009119  19.136713  8.128785e-07\n",
       "499  0.086839  1.524417  0.001007  0.003018  11.393455  3.980807e-07\n",
       "\n",
       "[500 rows x 6 columns]"
      ]
     },
     "execution_count": 7,
     "metadata": {},
     "output_type": "execute_result"
    }
   ],
   "source": [
    "unidentified_pore_data = pd.read_csv('data/microscopy-data.csv')\n",
    "dunk_data = pd.read_csv('data/dunking-data.csv')\n",
    "unidentified_pore_data"
   ]
  },
  {
   "cell_type": "code",
   "execution_count": 8,
   "id": "eabafff7-99a3-43b2-917a-b05193c2b08d",
   "metadata": {},
   "outputs": [
    {
     "data": {
      "text/html": [
       "<div>\n",
       "<style scoped>\n",
       "    .dataframe tbody tr th:only-of-type {\n",
       "        vertical-align: middle;\n",
       "    }\n",
       "\n",
       "    .dataframe tbody tr th {\n",
       "        vertical-align: top;\n",
       "    }\n",
       "\n",
       "    .dataframe thead th {\n",
       "        text-align: right;\n",
       "    }\n",
       "</style>\n",
       "<table border=\"1\" class=\"dataframe\">\n",
       "  <thead>\n",
       "    <tr style=\"text-align: right;\">\n",
       "      <th></th>\n",
       "      <th>gamma</th>\n",
       "      <th>phi</th>\n",
       "      <th>eta</th>\n",
       "      <th>L</th>\n",
       "      <th>t</th>\n",
       "      <th>r</th>\n",
       "      <th>biscuit</th>\n",
       "    </tr>\n",
       "  </thead>\n",
       "  <tbody>\n",
       "    <tr>\n",
       "      <th>0</th>\n",
       "      <td>0.084596</td>\n",
       "      <td>1.557367</td>\n",
       "      <td>0.000981</td>\n",
       "      <td>0.003221</td>\n",
       "      <td>24.231107</td>\n",
       "      <td>7.453712e-07</td>\n",
       "      <td>Digestive</td>\n",
       "    </tr>\n",
       "    <tr>\n",
       "      <th>1</th>\n",
       "      <td>0.064291</td>\n",
       "      <td>1.538842</td>\n",
       "      <td>0.000998</td>\n",
       "      <td>0.002395</td>\n",
       "      <td>22.169765</td>\n",
       "      <td>2.600680e-07</td>\n",
       "      <td>Rich Tea</td>\n",
       "    </tr>\n",
       "    <tr>\n",
       "      <th>2</th>\n",
       "      <td>0.086224</td>\n",
       "      <td>1.546138</td>\n",
       "      <td>0.001008</td>\n",
       "      <td>0.003036</td>\n",
       "      <td>23.257709</td>\n",
       "      <td>3.734618e-07</td>\n",
       "      <td>Hobnob</td>\n",
       "    </tr>\n",
       "    <tr>\n",
       "      <th>3</th>\n",
       "      <td>0.082859</td>\n",
       "      <td>1.566878</td>\n",
       "      <td>0.000997</td>\n",
       "      <td>0.001261</td>\n",
       "      <td>12.717432</td>\n",
       "      <td>7.567173e-07</td>\n",
       "      <td>Digestive</td>\n",
       "    </tr>\n",
       "    <tr>\n",
       "      <th>4</th>\n",
       "      <td>0.090832</td>\n",
       "      <td>1.570229</td>\n",
       "      <td>0.001002</td>\n",
       "      <td>0.000576</td>\n",
       "      <td>15.189146</td>\n",
       "      <td>8.239067e-07</td>\n",
       "      <td>Digestive</td>\n",
       "    </tr>\n",
       "    <tr>\n",
       "      <th>...</th>\n",
       "      <td>...</td>\n",
       "      <td>...</td>\n",
       "      <td>...</td>\n",
       "      <td>...</td>\n",
       "      <td>...</td>\n",
       "      <td>...</td>\n",
       "      <td>...</td>\n",
       "    </tr>\n",
       "    <tr>\n",
       "      <th>495</th>\n",
       "      <td>0.077699</td>\n",
       "      <td>1.481847</td>\n",
       "      <td>0.000989</td>\n",
       "      <td>0.006078</td>\n",
       "      <td>21.967531</td>\n",
       "      <td>4.751893e-07</td>\n",
       "      <td>Hobnob</td>\n",
       "    </tr>\n",
       "    <tr>\n",
       "      <th>496</th>\n",
       "      <td>0.067776</td>\n",
       "      <td>1.488293</td>\n",
       "      <td>0.001011</td>\n",
       "      <td>0.006595</td>\n",
       "      <td>18.163634</td>\n",
       "      <td>8.798032e-07</td>\n",
       "      <td>Digestive</td>\n",
       "    </tr>\n",
       "    <tr>\n",
       "      <th>497</th>\n",
       "      <td>0.074166</td>\n",
       "      <td>1.554817</td>\n",
       "      <td>0.000997</td>\n",
       "      <td>0.003041</td>\n",
       "      <td>18.000978</td>\n",
       "      <td>8.652230e-07</td>\n",
       "      <td>Digestive</td>\n",
       "    </tr>\n",
       "    <tr>\n",
       "      <th>498</th>\n",
       "      <td>0.081415</td>\n",
       "      <td>1.439910</td>\n",
       "      <td>0.001011</td>\n",
       "      <td>0.009119</td>\n",
       "      <td>19.136713</td>\n",
       "      <td>8.128785e-07</td>\n",
       "      <td>Digestive</td>\n",
       "    </tr>\n",
       "    <tr>\n",
       "      <th>499</th>\n",
       "      <td>0.086839</td>\n",
       "      <td>1.524417</td>\n",
       "      <td>0.001007</td>\n",
       "      <td>0.003018</td>\n",
       "      <td>11.393455</td>\n",
       "      <td>3.980807e-07</td>\n",
       "      <td>Hobnob</td>\n",
       "    </tr>\n",
       "  </tbody>\n",
       "</table>\n",
       "<p>500 rows × 7 columns</p>\n",
       "</div>"
      ],
      "text/plain": [
       "        gamma       phi       eta         L          t             r  \\\n",
       "0    0.084596  1.557367  0.000981  0.003221  24.231107  7.453712e-07   \n",
       "1    0.064291  1.538842  0.000998  0.002395  22.169765  2.600680e-07   \n",
       "2    0.086224  1.546138  0.001008  0.003036  23.257709  3.734618e-07   \n",
       "3    0.082859  1.566878  0.000997  0.001261  12.717432  7.567173e-07   \n",
       "4    0.090832  1.570229  0.001002  0.000576  15.189146  8.239067e-07   \n",
       "..        ...       ...       ...       ...        ...           ...   \n",
       "495  0.077699  1.481847  0.000989  0.006078  21.967531  4.751893e-07   \n",
       "496  0.067776  1.488293  0.001011  0.006595  18.163634  8.798032e-07   \n",
       "497  0.074166  1.554817  0.000997  0.003041  18.000978  8.652230e-07   \n",
       "498  0.081415  1.439910  0.001011  0.009119  19.136713  8.128785e-07   \n",
       "499  0.086839  1.524417  0.001007  0.003018  11.393455  3.980807e-07   \n",
       "\n",
       "       biscuit  \n",
       "0    Digestive  \n",
       "1     Rich Tea  \n",
       "2       Hobnob  \n",
       "3    Digestive  \n",
       "4    Digestive  \n",
       "..         ...  \n",
       "495     Hobnob  \n",
       "496  Digestive  \n",
       "497  Digestive  \n",
       "498  Digestive  \n",
       "499     Hobnob  \n",
       "\n",
       "[500 rows x 7 columns]"
      ]
     },
     "execution_count": 8,
     "metadata": {},
     "output_type": "execute_result"
    }
   ],
   "source": [
    "# merge dataframes to identify biscuits in pore data\n",
    "\n",
    "pore_data = pd.merge(unidentified_pore_data, dunk_data, on = ['gamma', 'phi', 'eta', 'L', 't'], how = 'left')\n",
    "pore_data"
   ]
  },
  {
   "cell_type": "code",
   "execution_count": 15,
   "id": "8ac81a0e-4c21-43e9-9e70-6359fc5cea10",
   "metadata": {},
   "outputs": [
    {
     "data": {
      "text/plain": [
       "biscuit\n",
       "Rich Tea     169\n",
       "Digestive    168\n",
       "Hobnob       163\n",
       "Name: count, dtype: int64"
      ]
     },
     "execution_count": 15,
     "metadata": {},
     "output_type": "execute_result"
    }
   ],
   "source": [
    "# See how many of each biscuit is in dataframe\n",
    "\n",
    "value_counts = pore_data['biscuit'].value_counts()\n",
    "value_counts"
   ]
  },
  {
   "cell_type": "markdown",
   "id": "763afe72-c9d0-40cd-b7c1-f39b560be980",
   "metadata": {},
   "source": [
    "## Difference between biscuit pore radii"
   ]
  },
  {
   "cell_type": "code",
   "execution_count": 47,
   "id": "ef969206-8b4e-4f98-9c01-05b7c8edf55b",
   "metadata": {},
   "outputs": [
    {
     "data": {
      "image/png": "[encoded data removed]",
      "text/plain": [
       "<Figure size 640x480 with 1 Axes>"
      ]
     },
     "metadata": {},
     "output_type": "display_data"
    }
   ],
   "source": [
    "fig, ax = plt.subplots()\n",
    "\n",
    "ax.hist(pore_data['r'], bins = 100, label = 'total', color = 'black')\n",
    "\n",
    "for biscuit in np.unique(pore_data['biscuit']):\n",
    "    ax.hist(pore_data[pore_data['biscuit'] == biscuit]['r'], bins = 50, label = biscuit, alpha = 0.5)\n",
    "\n",
    "ax.set_xlabel('pore radius (m)')\n",
    "ax.set_ylabel('count')\n",
    "ax.set_yticks(np.linspace(0,20,5))\n",
    "plt.legend()\n",
    "\n",
    "plt.show()"
   ]
  },
  {
   "cell_type": "code",
   "execution_count": 53,
   "id": "1ee94021-78a8-429f-8c2d-6be935d4a1a4",
   "metadata": {},
   "outputs": [
    {
     "data": {
      "text/html": [
       "<div>\n",
       "<style scoped>\n",
       "    .dataframe tbody tr th:only-of-type {\n",
       "        vertical-align: middle;\n",
       "    }\n",
       "\n",
       "    .dataframe tbody tr th {\n",
       "        vertical-align: top;\n",
       "    }\n",
       "\n",
       "    .dataframe thead th {\n",
       "        text-align: right;\n",
       "    }\n",
       "</style>\n",
       "<table border=\"1\" class=\"dataframe\">\n",
       "  <thead>\n",
       "    <tr style=\"text-align: right;\">\n",
       "      <th></th>\n",
       "      <th>biscuit</th>\n",
       "      <th>mean</th>\n",
       "      <th>variance</th>\n",
       "    </tr>\n",
       "  </thead>\n",
       "  <tbody>\n",
       "    <tr>\n",
       "      <th>0</th>\n",
       "      <td>Digestive</td>\n",
       "      <td>8.034292e-07</td>\n",
       "      <td>3.364683e-15</td>\n",
       "    </tr>\n",
       "    <tr>\n",
       "      <th>1</th>\n",
       "      <td>Hobnob</td>\n",
       "      <td>4.963689e-07</td>\n",
       "      <td>6.404967e-15</td>\n",
       "    </tr>\n",
       "    <tr>\n",
       "      <th>2</th>\n",
       "      <td>Rich Tea</td>\n",
       "      <td>3.038971e-07</td>\n",
       "      <td>2.211468e-15</td>\n",
       "    </tr>\n",
       "  </tbody>\n",
       "</table>\n",
       "</div>"
      ],
      "text/plain": [
       "     biscuit          mean      variance\n",
       "0  Digestive  8.034292e-07  3.364683e-15\n",
       "1     Hobnob  4.963689e-07  6.404967e-15\n",
       "2   Rich Tea  3.038971e-07  2.211468e-15"
      ]
     },
     "execution_count": 53,
     "metadata": {},
     "output_type": "execute_result"
    }
   ],
   "source": [
    "# Get means and variances in pore radius for each biscuit\n",
    "\n",
    "means = []\n",
    "variances = []\n",
    "\n",
    "for biscuit in np.unique(pore_data['biscuit']):\n",
    "    variance = np.var(pore_data[pore_data['biscuit'] == biscuit]['r'])\n",
    "    mean = np.mean(pore_data[pore_data['biscuit'] == biscuit]['r'])\n",
    "    means.append(mean)\n",
    "    variances.append(variance)\n",
    "\n",
    "means_vars = pd.DataFrame(data = {'biscuit':np.unique(pore_data['biscuit']),\n",
    "                                   'mean': means,\n",
    "                                  'variance':variances})\n",
    "means_vars"
   ]
  },
  {
   "cell_type": "markdown",
   "id": "0288794c-7d4a-4156-b533-8efdf36544af",
   "metadata": {},
   "source": [
    "# See if radius data affects pca weighting"
   ]
  },
  {
   "cell_type": "code",
   "execution_count": 40,
   "id": "b875c370-9474-4e0c-8a02-33ddbfed5c28",
   "metadata": {},
   "outputs": [],
   "source": [
    "scaled_data = scale(pore_data.drop(['biscuit'], axis = 1))"
   ]
  },
  {
   "cell_type": "code",
   "execution_count": 42,
   "id": "9c9e0541-07d9-487b-b80d-c6ee7670d25b",
   "metadata": {},
   "outputs": [],
   "source": [
    "pca_6 = PCA(n_components = 6)\n",
    "pca_6.fit(scaled_data)\n",
    "\n",
    "transformed_6 = pca_6.fit_transform(scaled_data)"
   ]
  },
  {
   "cell_type": "code",
   "execution_count": 44,
   "id": "f6fce417-0b12-4f04-a718-684ba7619b0a",
   "metadata": {},
   "outputs": [
    {
     "data": {
      "text/html": [
       "<div>\n",
       "<style scoped>\n",
       "    .dataframe tbody tr th:only-of-type {\n",
       "        vertical-align: middle;\n",
       "    }\n",
       "\n",
       "    .dataframe tbody tr th {\n",
       "        vertical-align: top;\n",
       "    }\n",
       "\n",
       "    .dataframe thead th {\n",
       "        text-align: right;\n",
       "    }\n",
       "</style>\n",
       "<table border=\"1\" class=\"dataframe\">\n",
       "  <thead>\n",
       "    <tr style=\"text-align: right;\">\n",
       "      <th></th>\n",
       "      <th>PC1</th>\n",
       "      <th>PC2</th>\n",
       "    </tr>\n",
       "  </thead>\n",
       "  <tbody>\n",
       "    <tr>\n",
       "      <th>gamma</th>\n",
       "      <td>1.625283</td>\n",
       "      <td>-1.645182</td>\n",
       "    </tr>\n",
       "    <tr>\n",
       "      <th>phi</th>\n",
       "      <td>0.647797</td>\n",
       "      <td>1.122193</td>\n",
       "    </tr>\n",
       "    <tr>\n",
       "      <th>eta</th>\n",
       "      <td>-0.374457</td>\n",
       "      <td>-1.644515</td>\n",
       "    </tr>\n",
       "    <tr>\n",
       "      <th>L</th>\n",
       "      <td>-1.189069</td>\n",
       "      <td>-0.540379</td>\n",
       "    </tr>\n",
       "    <tr>\n",
       "      <th>t</th>\n",
       "      <td>1.976166</td>\n",
       "      <td>0.473983</td>\n",
       "    </tr>\n",
       "    <tr>\n",
       "      <th>r</th>\n",
       "      <td>-0.224136</td>\n",
       "      <td>-0.137189</td>\n",
       "    </tr>\n",
       "  </tbody>\n",
       "</table>\n",
       "</div>"
      ],
      "text/plain": [
       "            PC1       PC2\n",
       "gamma  1.625283 -1.645182\n",
       "phi    0.647797  1.122193\n",
       "eta   -0.374457 -1.644515\n",
       "L     -1.189069 -0.540379\n",
       "t      1.976166  0.473983\n",
       "r     -0.224136 -0.137189"
      ]
     },
     "execution_count": 44,
     "metadata": {},
     "output_type": "execute_result"
    }
   ],
   "source": [
    "# Define new PCA to get two largest components\n",
    "\n",
    "pca_2 = PCA(n_components = 2)\n",
    "transformed_2 = pca_2.fit_transform(scaled_data)\n",
    "\n",
    "# Create Loading Matrix to see breakdown of two largest principal components\n",
    "\n",
    "loading_matrix = pd.DataFrame(transformed_6[-2:].T* np.sqrt(pca_2.explained_variance_), \n",
    "                              columns=['PC1', 'PC2'], index = pore_data.columns[:6])\n",
    "loading_matrix"
   ]
  },
  {
   "cell_type": "code",
   "execution_count": 45,
   "id": "44191aca-76b4-4010-8c13-2cbae0ce5516",
   "metadata": {},
   "outputs": [
    {
     "data": {
      "image/png": "[encoded data removed]",
      "text/plain": [
       "<Figure size 640x480 with 1 Axes>"
      ]
     },
     "metadata": {},
     "output_type": "display_data"
    }
   ],
   "source": [
    "# Plot breakdowns of two largest principal components\n",
    "\n",
    "ind = np.arange(len(loading_matrix.index))\n",
    "width = 0.35\n",
    "\n",
    "fig, ax = plt.subplots()\n",
    "ax.bar(ind, loading_matrix['PC1'], width, \n",
    "       label='Component 1 ({:.1f} %)'.format(pca_6.explained_variance_ratio_[0] * 100))\n",
    "ax.bar(ind + width, loading_matrix['PC2'], width, \n",
    "       label='Component 2 ({:.1f} %)'.format(pca_6.explained_variance_ratio_[1] * 100))\n",
    "ax.set_xlabel('Features')\n",
    "ax.set_ylabel('Loading')\n",
    "ax.set_xticks(ind + width / 2)\n",
    "ax.set_xticklabels(loading_matrix.index)\n",
    "ax.tick_params(axis='x', rotation=90)\n",
    "ax.legend()\n",
    "plt.show()"
   ]
  },
  {
   "cell_type": "code",
   "execution_count": 54,
   "id": "e04e38f5-c2f1-482b-8051-4d75ab2c4aa0",
   "metadata": {},
   "outputs": [
    {
     "data": {
      "image/png": "[encoded data removed]",
      "text/plain": [
       "<Figure size 640x480 with 1 Axes>"
      ]
     },
     "metadata": {},
     "output_type": "display_data"
    }
   ],
   "source": [
    "# Check for clustering in first two principal components\n",
    "\n",
    "fig, ax = plt.subplots()\n",
    "\n",
    "plt.scatter(transformed_2[:,0], transformed_2[:,1], s = 1)\n",
    "ax.set_xlabel('PC1')\n",
    "ax.set_ylabel('PC2')\n",
    "\n",
    "plt.show()"
   ]
  },
  {
   "cell_type": "markdown",
   "id": "78752aa1-53b4-4dce-8b48-411a6767eef2",
   "metadata": {},
   "source": [
    "# Testing Random Forest Regressor"
   ]
  },
  {
   "cell_type": "code",
   "execution_count": 173,
   "id": "a5526958-c80e-4f1f-9d94-150f4e37f2f4",
   "metadata": {},
   "outputs": [
    {
     "data": {
      "text/plain": [
       "((375, 6), (125, 6))"
      ]
     },
     "execution_count": 173,
     "metadata": {},
     "output_type": "execute_result"
    }
   ],
   "source": [
    "# Split test and train data\n",
    "\n",
    "X = scale(pore_data.drop(['biscuit','r'], axis = 1))\n",
    "y = pore_data['r']\n",
    "\n",
    "X_train, X_test, y_train, y_test = train_test_split(X, y)\n",
    "X_train.shape, X_test.shape"
   ]
  },
  {
   "cell_type": "code",
   "execution_count": 174,
   "id": "57ef08c6-7852-48eb-8929-ffced06190b4",
   "metadata": {},
   "outputs": [
    {
     "data": {
      "text/html": [
       "<style>#sk-container-id-2 {color: black;}#sk-container-id-2 pre{padding: 0;}#sk-container-id-2 div.sk-toggleable {background-color: white;}#sk-container-id-2 label.sk-toggleable__label {cursor: pointer;display: block;width: 100%;margin-bottom: 0;padding: 0.3em;box-sizing: border-box;text-align: center;}#sk-container-id-2 label.sk-toggleable__label-arrow:before {content: \"▸\";float: left;margin-right: 0.25em;color: #696969;}#sk-container-id-2 label.sk-toggleable__label-arrow:hover:before {color: black;}#sk-container-id-2 div.sk-estimator:hover label.sk-toggleable__label-arrow:before {color: black;}#sk-container-id-2 div.sk-toggleable__content {max-height: 0;max-width: 0;overflow: hidden;text-align: left;background-color: #f0f8ff;}#sk-container-id-2 div.sk-toggleable__content pre {margin: 0.2em;color: black;border-radius: 0.25em;background-color: #f0f8ff;}#sk-container-id-2 input.sk-toggleable__control:checked~div.sk-toggleable__content {max-height: 200px;max-width: 100%;overflow: auto;}#sk-container-id-2 input.sk-toggleable__control:checked~label.sk-toggleable__label-arrow:before {content: \"▾\";}#sk-container-id-2 div.sk-estimator input.sk-toggleable__control:checked~label.sk-toggleable__label {background-color: #d4ebff;}#sk-container-id-2 div.sk-label input.sk-toggleable__control:checked~label.sk-toggleable__label {background-color: #d4ebff;}#sk-container-id-2 input.sk-hidden--visually {border: 0;clip: rect(1px 1px 1px 1px);clip: rect(1px, 1px, 1px, 1px);height: 1px;margin: -1px;overflow: hidden;padding: 0;position: absolute;width: 1px;}#sk-container-id-2 div.sk-estimator {font-family: monospace;background-color: #f0f8ff;border: 1px dotted black;border-radius: 0.25em;box-sizing: border-box;margin-bottom: 0.5em;}#sk-container-id-2 div.sk-estimator:hover {background-color: #d4ebff;}#sk-container-id-2 div.sk-parallel-item::after {content: \"\";width: 100%;border-bottom: 1px solid gray;flex-grow: 1;}#sk-container-id-2 div.sk-label:hover label.sk-toggleable__label {background-color: #d4ebff;}#sk-container-id-2 div.sk-serial::before {content: \"\";position: absolute;border-left: 1px solid gray;box-sizing: border-box;top: 0;bottom: 0;left: 50%;z-index: 0;}#sk-container-id-2 div.sk-serial {display: flex;flex-direction: column;align-items: center;background-color: white;padding-right: 0.2em;padding-left: 0.2em;position: relative;}#sk-container-id-2 div.sk-item {position: relative;z-index: 1;}#sk-container-id-2 div.sk-parallel {display: flex;align-items: stretch;justify-content: center;background-color: white;position: relative;}#sk-container-id-2 div.sk-item::before, #sk-container-id-2 div.sk-parallel-item::before {content: \"\";position: absolute;border-left: 1px solid gray;box-sizing: border-box;top: 0;bottom: 0;left: 50%;z-index: -1;}#sk-container-id-2 div.sk-parallel-item {display: flex;flex-direction: column;z-index: 1;position: relative;background-color: white;}#sk-container-id-2 div.sk-parallel-item:first-child::after {align-self: flex-end;width: 50%;}#sk-container-id-2 div.sk-parallel-item:last-child::after {align-self: flex-start;width: 50%;}#sk-container-id-2 div.sk-parallel-item:only-child::after {width: 0;}#sk-container-id-2 div.sk-dashed-wrapped {border: 1px dashed gray;margin: 0 0.4em 0.5em 0.4em;box-sizing: border-box;padding-bottom: 0.4em;background-color: white;}#sk-container-id-2 div.sk-label label {font-family: monospace;font-weight: bold;display: inline-block;line-height: 1.2em;}#sk-container-id-2 div.sk-label-container {text-align: center;}#sk-container-id-2 div.sk-container {/* jupyter's `normalize.less` sets `[hidden] { display: none; }` but bootstrap.min.css set `[hidden] { display: none !important; }` so we also need the `!important` here to be able to override the default hidden behavior on the sphinx rendered scikit-learn.org. See: https://github.com/scikit-learn/scikit-learn/issues/21755 */display: inline-block !important;position: relative;}#sk-container-id-2 div.sk-text-repr-fallback {display: none;}</style><div id=\"sk-container-id-2\" class=\"sk-top-container\"><div class=\"sk-text-repr-fallback\"><pre>RandomForestRegressor(random_state=0)</pre><b>In a Jupyter environment, please rerun this cell to show the HTML representation or trust the notebook. <br />On GitHub, the HTML representation is unable to render, please try loading this page with nbviewer.org.</b></div><div class=\"sk-container\" hidden><div class=\"sk-item\"><div class=\"sk-estimator sk-toggleable\"><input class=\"sk-toggleable__control sk-hidden--visually\" id=\"sk-estimator-id-2\" type=\"checkbox\" checked><label for=\"sk-estimator-id-2\" class=\"sk-toggleable__label sk-toggleable__label-arrow\">RandomForestRegressor</label><div class=\"sk-toggleable__content\"><pre>RandomForestRegressor(random_state=0)</pre></div></div></div></div></div>"
      ],
      "text/plain": [
       "RandomForestRegressor(random_state=0)"
      ]
     },
     "execution_count": 174,
     "metadata": {},
     "output_type": "execute_result"
    }
   ],
   "source": [
    "# Train rf regressor\n",
    "\n",
    "rf_regressor = RandomForestRegressor(random_state = 0)\n",
    "rf_regressor.fit(X_train, y_train)"
   ]
  },
  {
   "cell_type": "code",
   "execution_count": 175,
   "id": "4af6f978-81fb-4b7f-b2a9-b4a0b16d862c",
   "metadata": {},
   "outputs": [
    {
     "data": {
      "image/png": "[encoded data removed]",
      "text/plain": [
       "<Figure size 640x480 with 1 Axes>"
      ]
     },
     "metadata": {},
     "output_type": "display_data"
    }
   ],
   "source": [
    "# Try on test data and plot\n",
    "\n",
    "y_pred = rf_regressor.predict(X_test)\n",
    "mse_rf = mean_squared_error(y_test, y_pred)\n",
    "\n",
    "fig, ax = plt.subplots()\n",
    "\n",
    "ax.hist(y_test, bins = 30, label = 'actual', alpha = 0.9, color = 'black')\n",
    "ax.hist(y_pred, bins = 30, label = 'predicted', alpha = 0.9, color = 'orange')\n",
    "\n",
    "ax.set_xlabel('pore radius (m)')\n",
    "ax.set_ylabel('count')\n",
    "plt.legend()\n",
    "fig.text(0.54,0.73,s = f'mean squared error = {\"{:.2e}\".format(mse_rf)}')\n",
    "\n",
    "plt.show()"
   ]
  },
  {
   "cell_type": "markdown",
   "id": "dee28f0d-9362-4731-88dd-0c346b4a645e",
   "metadata": {},
   "source": [
    "# Testing Washburn equation predictions"
   ]
  },
  {
   "cell_type": "code",
   "execution_count": 176,
   "id": "0619f2c9-dd11-4315-bbab-774d616be4ec",
   "metadata": {},
   "outputs": [],
   "source": [
    "# Define washburn predictor and use on test data\n",
    "\n",
    "def washburn_radius_predictor(df):\n",
    "    washburn_radii = []  \n",
    "    for index, row in df.iterrows():\n",
    "            washburn_radius = ((2*row['eta']*row['L'])**2)/(row['gamma']*row['t']*np.cos(row['phi']))\n",
    "            washburn_radii.append(washburn_radius*500) # factor of 500 is units error?\n",
    "    return washburn_radii\n",
    "\n",
    "wb_pred = washburn_radius_predictor(pore_data.loc[y_test.index.tolist()])"
   ]
  },
  {
   "cell_type": "code",
   "execution_count": 177,
   "id": "90f48dd2-be5c-48f1-9f62-b0bebb55e51c",
   "metadata": {},
   "outputs": [
    {
     "data": {
      "image/png": "[encoded data removed]",
      "text/plain": [
       "<Figure size 640x480 with 1 Axes>"
      ]
     },
     "metadata": {},
     "output_type": "display_data"
    }
   ],
   "source": [
    "# Plot washburn predicted data\n",
    "\n",
    "mse_wb = mean_squared_error(y_test, wb_pred)\n",
    "\n",
    "fig, ax = plt.subplots()\n",
    "\n",
    "ax.hist(y_test, bins = 30, label = 'actual', alpha = 0.9, color = 'black')\n",
    "ax.hist(wb_pred, bins = 30, label = 'predicted', alpha = 0.9, color = 'orange')\n",
    "\n",
    "ax.set_xlabel('pore radius (m)')\n",
    "ax.set_ylabel('count')\n",
    "plt.legend()\n",
    "fig.text(0.54,0.73,s = f'mean squared error = {\"{:.2e}\".format(mse_wb)}')\n",
    "\n",
    "plt.show()"
   ]
  },
  {
   "cell_type": "code",
   "execution_count": 178,
   "id": "a4f32c16-dde1-4aaf-8091-ef95a7ff1b51",
   "metadata": {},
   "outputs": [
    {
     "data": {
      "image/png": "[encoded data removed]",
      "text/plain": [
       "<Figure size 640x480 with 1 Axes>"
      ]
     },
     "metadata": {},
     "output_type": "display_data"
    }
   ],
   "source": [
    "# Plot both\n",
    "\n",
    "fig, ax = plt.subplots()\n",
    "\n",
    "ax.hist(y_test, bins = 30, label = 'actual', color = 'black')\n",
    "ax.hist(wb_pred, bins = 30, label = 'Washburn predicted', alpha = 0.7)\n",
    "ax.hist(y_pred, bins = 30, label = 'Random Forest predicted', alpha = 0.7)\n",
    "\n",
    "ax.set_xlabel('pore radius (m)')\n",
    "ax.set_ylabel('count')\n",
    "plt.legend()\n",
    "fig.text(0.59,0.68,s = f'Washburn mse = {\"{:.2e}\".format(mse_wb)}')\n",
    "fig.text(0.535,0.64,s = f'Random Forest mse = {\"{:.2e}\".format(mse_rf)}')\n",
    "\n",
    "plt.show()"
   ]
  },
  {
   "cell_type": "code",
   "execution_count": null,
   "id": "07285944-b657-4561-80b1-eb0a23854720",
   "metadata": {},
   "outputs": [],
   "source": []
  }
 ],
 "metadata": {
  "kernelspec": {
   "display_name": "Python 3 (ipykernel)",
   "language": "python",
   "name": "python3"
  },
  "language_info": {
   "codemirror_mode": {
    "name": "ipython",
    "version": 3
   },
   "file_extension": ".py",
   "mimetype": "text/x-python",
   "name": "python",
   "nbconvert_exporter": "python",
   "pygments_lexer": "ipython3",
   "version": "3.10.12"
  }
 },
 "nbformat": 4,
 "nbformat_minor": 5
}
